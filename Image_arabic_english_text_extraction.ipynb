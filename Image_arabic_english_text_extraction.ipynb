{
 "cells": [
  {
   "cell_type": "markdown",
   "id": "ca54d2bc",
   "metadata": {},
   "source": [
    "## English extraction"
   ]
  },
  {
   "cell_type": "code",
   "execution_count": null,
   "id": "3526c101",
   "metadata": {},
   "outputs": [],
   "source": [
    "import cv2\n",
    "import pytesseract\n",
    "from PIL import Image\n",
    "\n",
    "\n",
    "config = ('-l eng --oem 1 --psm 3')\n",
    "\n",
    "pytesseract.pytesseract.tesseract_cmd = r'C:\\Program Files\\Tesseract-OCR\\tesseract.exe'\n",
    "tessdata_dir_config = r'--tessdata-dir \"C:\\Program Files\\Tesseract-OCR\\tessdata\"'\n",
    "\n",
    "img = cv2.imread('image1.jpg', 0)\n",
    "_, img = cv2.threshold(img, 120, 255, cv2.THRESH_BINARY + cv2.THRESH_OTSU)\n",
    "\n",
    "\n",
    "img = Image.fromarray(img)\n",
    "\n",
    "text = pytesseract.image_to_string(img, config=tessdata_dir_config + ' ' + config)\n",
    "\n",
    "print(text)\n"
   ]
  },
  {
   "cell_type": "markdown",
   "id": "f4a64821",
   "metadata": {},
   "source": [
    "## Arabic extraction"
   ]
  },
  {
   "cell_type": "code",
   "execution_count": null,
   "id": "63bd63da",
   "metadata": {},
   "outputs": [],
   "source": [
    "import pytesseract\n",
    "from PIL import Image\n",
    "\n",
    "pytesseract.pytesseract.tesseract_cmd = r'C:\\Program Files\\Tesseract-OCR\\tesseract.exe'\n",
    "tessdata_dir_config = r'--tessdata-dir \"C:\\Program Files\\Tesseract-OCR\\tessdata\"'\n",
    "\n",
    "img = Image.open('Your image')\n",
    "\n",
    "text = pytesseract.image_to_string(img, lang='ara', config=tessdata_dir_config)\n",
    "\n",
    "print(text)\n"
   ]
  }
 ],
 "metadata": {
  "kernelspec": {
   "display_name": "Python 3 (ipykernel)",
   "language": "python",
   "name": "python3"
  },
  "language_info": {
   "codemirror_mode": {
    "name": "ipython",
    "version": 3
   },
   "file_extension": ".py",
   "mimetype": "text/x-python",
   "name": "python",
   "nbconvert_exporter": "python",
   "pygments_lexer": "ipython3",
   "version": "3.9.13"
  }
 },
 "nbformat": 4,
 "nbformat_minor": 5
}
